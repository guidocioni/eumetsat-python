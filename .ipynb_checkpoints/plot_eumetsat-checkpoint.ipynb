{
 "cells": [
  {
   "cell_type": "code",
   "execution_count": 2,
   "metadata": {},
   "outputs": [],
   "source": [
    "# Required libraries\n",
    "import matplotlib.pyplot as plt\n",
    "# %matplotlib\n",
    "from netCDF4 import Dataset\n",
    "from mpl_toolkits.basemap import Basemap # Import the Basemap toolkit\n",
    "import numpy as np # Import the Numpy package\n",
    "from cpt_convert import loadCPT # Import the CPT convert function\n",
    "from matplotlib.colors import LinearSegmentedColormap # Linear interpolation for color maps\n",
    "from datetime import datetime\n",
    "from glob import glob\n",
    "\n",
    "# Converts the CPT file to be used in Python\n",
    "cpt = loadCPT('IR4AVHRR6.cpt')\n",
    "# Makes a linear interpolation with the CPT file\n",
    "cpt_convert = LinearSegmentedColormap('cpt', cpt)"
   ]
  },
  {
   "cell_type": "code",
   "execution_count": null,
   "metadata": {},
   "outputs": [],
   "source": [
    "path = '/Users/guidocioni/mistral_ssh/sat/ophelia/'\n",
    "first=True\n",
    "\n",
    "for fname in glob(path+\"*.nc\"):\n",
    "    # Search for the Scan Start in the file name\n",
    "    time = (fname[fname.find(\"MG_\")+3:fname.find(\".nc\")])\n",
    "    # Format the \"Observation Start\" string\n",
    "    date = datetime.strptime(time,'%Y%m%d%H%M%S')\n",
    "    # Open the file using the NetCDF4 library\n",
    "    nc = Dataset(fname)\n",
    "\n",
    "    # Extract the Brightness Temperature values from the NetCDF\n",
    "    ir_10p8 = np.ma.masked_less(nc.variables['ch9'][:], 10)\n",
    "\n",
    "    nu_c=930.659 \n",
    "    alpha=0.9983\n",
    "    beta=0.627\n",
    "    C1=1.19104E-5\n",
    "    C2=1.43877 \n",
    "    temp_b=( (C2*nu_c) / (alpha*np.log((C1*nu_c**3/ir_10p8)+1)) )- ( beta/alpha )\n",
    "    temp_b=temp_b-273.15\n",
    "    \n",
    "    if first:\n",
    "        lons = np.array(nc.variables['lon'])\n",
    "        lats = np.array(nc.variables['lat'])        \n",
    "        bmap = Basemap(projection='cyl', llcrnrlon=lons[0,0], llcrnrlat=lats[0,0], urcrnrlon=lons[-1,-1], urcrnrlat=lats[-1,-1],  resolution='i')\n",
    "        #bmap = Basemap(projection='cyl', llcrnrlon=-40, llcrnrlat=30, urcrnrlon=-30, urcrnrlat=40,  resolution='i')\n",
    "        # Draw the coastlines, countries, parallels and meridians\n",
    "        first=False \n",
    "    print(fname)\n",
    "\n",
    "    bmap.contourf(lons,lats,temp_b,np.arange(-90,30,0.5),cmap=cpt_convert)\n",
    "    bmap.drawcoastlines(linewidth=0.5, linestyle='solid', color='white')\n",
    "    bmap.drawcountries(linewidth=0.5, linestyle='solid', color='white')\n",
    "    bmap.drawparallels(np.arange(-90.0, 90.0, 10.0), linewidth=0.1, color='white', labels=[True, False, False, True])\n",
    "    bmap.drawmeridians(np.arange(0.0, 360.0, 10.0), linewidth=0.1, color='white', labels=[True, False, False, True])\n",
    "\n",
    "    # Insert the legend\n",
    "    bmap.colorbar(location='right', label='Brightness Temperature [K]')\n",
    "\n",
    "    date_formatted = datetime.strftime(date,'%H:%MZ %a %d %b %Y')\n",
    "    plt.title(date_formatted)\n",
    "#     plt.show()\n",
    "    plt.savefig('./%s.png' % datetime.strftime(date,'%Y%m%d%H%M%S'), bbox_inches='tight', dpi=150)\n",
    "    plt.clf()\n",
    "\n",
    "plt.close('all')"
   ]
  },
  {
   "cell_type": "code",
   "execution_count": null,
   "metadata": {},
   "outputs": [],
   "source": []
  }
 ],
 "metadata": {
  "kernelspec": {
   "display_name": "Python 2",
   "language": "python",
   "name": "python2"
  },
  "language_info": {
   "codemirror_mode": {
    "name": "ipython",
    "version": 2
   },
   "file_extension": ".py",
   "mimetype": "text/x-python",
   "name": "python",
   "nbconvert_exporter": "python",
   "pygments_lexer": "ipython2",
   "version": "2.7.14"
  }
 },
 "nbformat": 4,
 "nbformat_minor": 2
}
