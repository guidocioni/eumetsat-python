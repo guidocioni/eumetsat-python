{
 "cells": [
  {
   "cell_type": "code",
   "execution_count": 2,
   "metadata": {},
   "outputs": [
    {
     "name": "stdout",
     "output_type": "stream",
     "text": [
      "Using matplotlib backend: TkAgg\n"
     ]
    }
   ],
   "source": [
    "# Required libraries\n",
    "import matplotlib.pyplot as plt\n",
    "%matplotlib\n",
    "from netCDF4 import Dataset\n",
    "from mpl_toolkits.basemap import Basemap # Import the Basemap toolkit\n",
    "import numpy as np # Import the Numpy package\n",
    "from cpt_convert import loadCPT # Import the CPT convert function\n",
    "from matplotlib.colors import LinearSegmentedColormap # Linear interpolation for color maps\n",
    "from datetime import datetime\n",
    "from pyproj import Proj\n",
    "\n",
    "# Converts the CPT file to be used in Python\n",
    "cpt = loadCPT('IR4AVHRR6.cpt')\n",
    "# Makes a linear interpolation with the CPT file\n",
    "cpt_convert = LinearSegmentedColormap('cpt', cpt)"
   ]
  },
  {
   "cell_type": "code",
   "execution_count": 24,
   "metadata": {},
   "outputs": [],
   "source": [
    "# Path to the GOES-R simulated image file\n",
    "path = '/Users/guidocioni/mistral_ssh/sat/ophelia/W_XX-EUMETSAT-Darmstadt,VIS+IR+IMAGERY,MSG2+SEVIRI_C_EUMG_20171009072010.nc'\n",
    " \n",
    "# Search for the Scan Start in the file name\n",
    "time = (path[path.find(\"MG_\")+3:path.find(\".nc\")])\n",
    "\n",
    "# Format the \"Observation Start\" string\n",
    "date = datetime.strptime(Start,'%Y%m%d%H%M%S')"
   ]
  },
  {
   "cell_type": "code",
   "execution_count": 67,
   "metadata": {},
   "outputs": [
    {
     "name": "stderr",
     "output_type": "stream",
     "text": [
      "/usr/local/lib/python2.7/site-packages/ipykernel_launcher.py:14: RuntimeWarning: invalid value encountered in log\n",
      "  \n"
     ]
    }
   ],
   "source": [
    "# Open the file using the NetCDF4 library\n",
    "nc = Dataset(path)\n",
    " \n",
    "# Extract the Brightness Temperature values from the NetCDF\n",
    "ir_10p8 = np.ma.masked_less(nc.variables['ch9'][:], 10)\n",
    "lons = np.array(nc.variables['lon'])\n",
    "lats = np.array(nc.variables['lat'])\n",
    "\n",
    "nu_c=930.659 \n",
    "alpha=0.9983\n",
    "beta=0.627\n",
    "C1=1.19104E-5\n",
    "C2=1.43877 \n",
    "temp_b=( (C2*nu_c) / (alpha*np.log((C1*nu_c**3/ir_10p8)+1)) )- ( beta/alpha )\n",
    "temp_b=temp_b-273.15\n"
   ]
  },
  {
   "cell_type": "code",
   "execution_count": 71,
   "metadata": {},
   "outputs": [],
   "source": [
    "# bmap = Basemap(projection='cyl', llcrnrlon=lons[0,0], llcrnrlat=lats[0,0], urcrnrlon=lons[-1,-1], urcrnrlat=lats[-1,-1],  resolution='i')\n",
    "bmap = Basemap(projection='cyl', llcrnrlon=lons[0,0], llcrnrlat=lats[0,0], urcrnrlon=lons[-1,-1], urcrnrlat=lats[-1,-1],  resolution='i')\n",
    "\n",
    "bmap.contourf(lons,lats,temp_b,np.arange(-90,30,0.5),cmap=cpt_convert)\n",
    " \n",
    "# Draw the coastlines, countries, parallels and meridians\n",
    "bmap.drawcoastlines(linewidth=0.5, linestyle='solid', color='white')\n",
    "bmap.drawcountries(linewidth=0.5, linestyle='solid', color='white')\n",
    "bmap.drawparallels(np.arange(-90.0, 90.0, 10.0), linewidth=0.1, color='white', labels=[True, False, False, True])\n",
    "bmap.drawmeridians(np.arange(0.0, 360.0, 10.0), linewidth=0.1, color='white', labels=[True, False, False, True])\n",
    " \n",
    "# Insert the legend\n",
    "bmap.colorbar(location='right', label='Brightness Temperature [K]')\n",
    "\n",
    "date_formatted = datetime.strftime(date,'%H:%MZ %a %d %b %Y')\n",
    "plt.title(date_formatted)\n",
    "plt.show()"
   ]
  },
  {
   "cell_type": "code",
   "execution_count": 69,
   "metadata": {},
   "outputs": [
    {
     "data": {
      "text/plain": [
       "masked_array(data =\n",
       " [[-17.516515240248026 -28.125913361286365 -25.05745795729962 ...,\n",
       "  20.356175767205116 20.356175767205116 20.356175767205116]\n",
       " [-16.17001734741217 -26.79461389253234 -25.27231744245813 ...,\n",
       "  20.48504385464122 20.48504385464122 20.48504385464122]\n",
       " [-17.516515240248026 -25.92077000839538 -24.84323544881417 ...,\n",
       "  20.613762296909897 20.227157516067336 20.48504385464122]\n",
       " ..., \n",
       " [-- -- -- ..., 7.489255287257436 8.649137514933159 10.222289965283494]\n",
       " [-- -- -- ..., 10.92933004131703 10.364092875189556 10.08028799320033]\n",
       " [-- -- -- ..., 12.606513367000844 12.467788569236802 13.434982482132114]],\n",
       "             mask =\n",
       " [[False False False ..., False False False]\n",
       " [False False False ..., False False False]\n",
       " [False False False ..., False False False]\n",
       " ..., \n",
       " [ True  True  True ..., False False False]\n",
       " [ True  True  True ..., False False False]\n",
       " [ True  True  True ..., False False False]],\n",
       "       fill_value = 1e+20)"
      ]
     },
     "execution_count": 69,
     "metadata": {},
     "output_type": "execute_result"
    }
   ],
   "source": [
    "temp_b"
   ]
  },
  {
   "cell_type": "code",
   "execution_count": null,
   "metadata": {},
   "outputs": [],
   "source": []
  }
 ],
 "metadata": {
  "kernelspec": {
   "display_name": "Python 2",
   "language": "python",
   "name": "python2"
  },
  "language_info": {
   "codemirror_mode": {
    "name": "ipython",
    "version": 2
   },
   "file_extension": ".py",
   "mimetype": "text/x-python",
   "name": "python",
   "nbconvert_exporter": "python",
   "pygments_lexer": "ipython2",
   "version": "2.7.14"
  }
 },
 "nbformat": 4,
 "nbformat_minor": 2
}
